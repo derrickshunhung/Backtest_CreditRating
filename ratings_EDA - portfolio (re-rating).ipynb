{
 "cells": [
  {
   "cell_type": "code",
   "execution_count": 1,
   "metadata": {},
   "outputs": [],
   "source": [
    "import pandas as pd\n",
    "import numpy as np\n",
    "import matplotlib.pyplot as plt\n",
    "import matplotlib.ticker as mtick\n"
   ]
  },
  {
   "cell_type": "code",
   "execution_count": 2,
   "metadata": {},
   "outputs": [
    {
     "name": "stderr",
     "output_type": "stream",
     "text": [
      "C:\\Users\\Derrick\\Anaconda2\\lib\\site-packages\\IPython\\core\\interactiveshell.py:3058: DtypeWarning: Columns (2,3,6,7,8,14,30) have mixed types. Specify dtype option on import or set low_memory=False.\n",
      "  interactivity=interactivity, compiler=compiler, result=result)\n"
     ]
    }
   ],
   "source": [
    "df = pd.read_csv('compustat_dailly_ratings_1997_02_to_latest.csv')"
   ]
  },
  {
   "cell_type": "code",
   "execution_count": 3,
   "metadata": {},
   "outputs": [
    {
     "data": {
      "text/plain": [
       "Index(['gvkey', 'splticrm', 'spsdrm', 'spsticrm', 'datadate', 'add1', 'add2',\n",
       "       'add3', 'add4', 'addzip', 'busdesc', 'cik', 'city', 'conml', 'county',\n",
       "       'dlrsn', 'ein', 'fax', 'fic', 'fyrc', 'ggroup', 'gind', 'gsector',\n",
       "       'gsubind', 'idbflag', 'incorp', 'loc', 'naics', 'phone', 'prican',\n",
       "       'prirow', 'priusa', 'sic', 'spcindcd', 'spcseccd', 'spcsrc', 'state',\n",
       "       'stko', 'weburl', 'dldte', 'ipodate', 'conm', 'tic', 'cusip'],\n",
       "      dtype='object')"
      ]
     },
     "execution_count": 3,
     "metadata": {},
     "output_type": "execute_result"
    }
   ],
   "source": [
    "#splticrm: S&P Domestic Long Term Issuer Credit Rating\n",
    "#datadate: date bond rating data was collected\n",
    "#cik: company unique ID\n",
    "#llc location\n",
    "#Final data ~3k, most don't have long term ratings, filtered for US companies\n",
    "df.columns"
   ]
  },
  {
   "cell_type": "code",
   "execution_count": 4,
   "metadata": {},
   "outputs": [
    {
     "data": {
      "text/plain": [
       "BBB     60149\n",
       "B+      48345\n",
       "BBB+    47786\n",
       "BBB-    46539\n",
       "BB-     44129\n",
       "A-      37203\n",
       "A       35631\n",
       "B       34892\n",
       "BB      34450\n",
       "BB+     27469\n",
       "A+      22673\n",
       "B-      17720\n",
       "AA-     13008\n",
       "AA       7409\n",
       "CCC+     6865\n",
       "D        5208\n",
       "AAA      4420\n",
       "CCC      3515\n",
       "AA+      2430\n",
       "CC       1293\n",
       "CCC-     1126\n",
       "SD        666\n",
       "N.M.      182\n",
       "Name: splticrm, dtype: int64"
      ]
     },
     "execution_count": 4,
     "metadata": {},
     "output_type": "execute_result"
    }
   ],
   "source": [
    "df['splticrm'].value_counts()"
   ]
  },
  {
   "cell_type": "code",
   "execution_count": 5,
   "metadata": {},
   "outputs": [
    {
     "data": {
      "text/plain": [
       "B-      2383\n",
       "B       2170\n",
       "B+      1438\n",
       "A-      1151\n",
       "BBB-    1106\n",
       "BB+      932\n",
       "BB-      864\n",
       "BBB      817\n",
       "BBB+     696\n",
       "A        518\n",
       "A+       453\n",
       "CCC+     423\n",
       "D        206\n",
       "AA-      192\n",
       "CCC      177\n",
       "AA        76\n",
       "CCC-      65\n",
       "AAA       30\n",
       "CC        22\n",
       "AA+       20\n",
       "C         12\n",
       "BB         5\n",
       "Name: spsdrm, dtype: int64"
      ]
     },
     "execution_count": 5,
     "metadata": {},
     "output_type": "execute_result"
    }
   ],
   "source": [
    "df['spsdrm'].value_counts()"
   ]
  },
  {
   "cell_type": "code",
   "execution_count": 6,
   "metadata": {},
   "outputs": [
    {
     "data": {
      "text/plain": [
       "A-2     68957\n",
       "A-1     44184\n",
       "A-1+    23304\n",
       "A-3     10871\n",
       "B        4062\n",
       "B-2      1128\n",
       "B-1       744\n",
       "C         593\n",
       "B-3       435\n",
       "D         368\n",
       "SD         10\n",
       "Name: spsticrm, dtype: int64"
      ]
     },
     "execution_count": 6,
     "metadata": {},
     "output_type": "execute_result"
    }
   ],
   "source": [
    "df['spsticrm'].value_counts()"
   ]
  },
  {
   "cell_type": "code",
   "execution_count": 7,
   "metadata": {},
   "outputs": [
    {
     "data": {
      "text/plain": [
       "C      395384\n",
       "B-     251865\n",
       "B      194856\n",
       "B+     155963\n",
       "D      107625\n",
       "A-      57821\n",
       "A       42623\n",
       "A+      12578\n",
       "LIQ      1248\n",
       "Name: spcsrc, dtype: int64"
      ]
     },
     "execution_count": 7,
     "metadata": {},
     "output_type": "execute_result"
    }
   ],
   "source": [
    "df['spcsrc'].value_counts()"
   ]
  },
  {
   "cell_type": "code",
   "execution_count": 8,
   "metadata": {},
   "outputs": [],
   "source": [
    "lista= ['splticrm','spsdrm','spsticrm','spcsrc']"
   ]
  },
  {
   "cell_type": "code",
   "execution_count": 9,
   "metadata": {},
   "outputs": [
    {
     "name": "stdout",
     "output_type": "stream",
     "text": [
      "splticrm : 1884358\n",
      "spsdrm : 2373710\n",
      "spsticrm : 2232810\n",
      "spcsrc : 1167503\n"
     ]
    }
   ],
   "source": [
    "for i in lista:\n",
    "    print(i,':',df[i].isnull().sum())"
   ]
  },
  {
   "cell_type": "code",
   "execution_count": 10,
   "metadata": {},
   "outputs": [],
   "source": [
    "mask = df['splticrm'].isna() | df['spsticrm'].isna()"
   ]
  },
  {
   "cell_type": "code",
   "execution_count": 11,
   "metadata": {},
   "outputs": [
    {
     "data": {
      "text/html": [
       "<div>\n",
       "<style scoped>\n",
       "    .dataframe tbody tr th:only-of-type {\n",
       "        vertical-align: middle;\n",
       "    }\n",
       "\n",
       "    .dataframe tbody tr th {\n",
       "        vertical-align: top;\n",
       "    }\n",
       "\n",
       "    .dataframe thead th {\n",
       "        text-align: right;\n",
       "    }\n",
       "</style>\n",
       "<table border=\"1\" class=\"dataframe\">\n",
       "  <thead>\n",
       "    <tr style=\"text-align: right;\">\n",
       "      <th></th>\n",
       "      <th>gvkey</th>\n",
       "      <th>splticrm</th>\n",
       "      <th>spsticrm</th>\n",
       "      <th>cik</th>\n",
       "    </tr>\n",
       "  </thead>\n",
       "  <tbody>\n",
       "    <tr>\n",
       "      <td>1679</td>\n",
       "      <td>1045</td>\n",
       "      <td>B-</td>\n",
       "      <td>B-3</td>\n",
       "      <td>6201.0</td>\n",
       "    </tr>\n",
       "    <tr>\n",
       "      <td>1680</td>\n",
       "      <td>1045</td>\n",
       "      <td>B-</td>\n",
       "      <td>B-3</td>\n",
       "      <td>6201.0</td>\n",
       "    </tr>\n",
       "    <tr>\n",
       "      <td>1681</td>\n",
       "      <td>1045</td>\n",
       "      <td>B-</td>\n",
       "      <td>B-3</td>\n",
       "      <td>6201.0</td>\n",
       "    </tr>\n",
       "    <tr>\n",
       "      <td>1682</td>\n",
       "      <td>1045</td>\n",
       "      <td>B-</td>\n",
       "      <td>B-3</td>\n",
       "      <td>6201.0</td>\n",
       "    </tr>\n",
       "    <tr>\n",
       "      <td>1683</td>\n",
       "      <td>1045</td>\n",
       "      <td>B-</td>\n",
       "      <td>B-3</td>\n",
       "      <td>6201.0</td>\n",
       "    </tr>\n",
       "    <tr>\n",
       "      <td>...</td>\n",
       "      <td>...</td>\n",
       "      <td>...</td>\n",
       "      <td>...</td>\n",
       "      <td>...</td>\n",
       "    </tr>\n",
       "    <tr>\n",
       "      <td>2387171</td>\n",
       "      <td>295786</td>\n",
       "      <td>BB+</td>\n",
       "      <td>B</td>\n",
       "      <td>1567094.0</td>\n",
       "    </tr>\n",
       "    <tr>\n",
       "      <td>2387172</td>\n",
       "      <td>295786</td>\n",
       "      <td>BB+</td>\n",
       "      <td>B</td>\n",
       "      <td>1567094.0</td>\n",
       "    </tr>\n",
       "    <tr>\n",
       "      <td>2387173</td>\n",
       "      <td>295786</td>\n",
       "      <td>BB+</td>\n",
       "      <td>B</td>\n",
       "      <td>1567094.0</td>\n",
       "    </tr>\n",
       "    <tr>\n",
       "      <td>2387174</td>\n",
       "      <td>295786</td>\n",
       "      <td>BB+</td>\n",
       "      <td>B</td>\n",
       "      <td>1567094.0</td>\n",
       "    </tr>\n",
       "    <tr>\n",
       "      <td>2387175</td>\n",
       "      <td>295786</td>\n",
       "      <td>BB+</td>\n",
       "      <td>B</td>\n",
       "      <td>1567094.0</td>\n",
       "    </tr>\n",
       "  </tbody>\n",
       "</table>\n",
       "<p>151191 rows × 4 columns</p>\n",
       "</div>"
      ],
      "text/plain": [
       "          gvkey splticrm spsticrm        cik\n",
       "1679       1045       B-      B-3     6201.0\n",
       "1680       1045       B-      B-3     6201.0\n",
       "1681       1045       B-      B-3     6201.0\n",
       "1682       1045       B-      B-3     6201.0\n",
       "1683       1045       B-      B-3     6201.0\n",
       "...         ...      ...      ...        ...\n",
       "2387171  295786      BB+        B  1567094.0\n",
       "2387172  295786      BB+        B  1567094.0\n",
       "2387173  295786      BB+        B  1567094.0\n",
       "2387174  295786      BB+        B  1567094.0\n",
       "2387175  295786      BB+        B  1567094.0\n",
       "\n",
       "[151191 rows x 4 columns]"
      ]
     },
     "execution_count": 11,
     "metadata": {},
     "output_type": "execute_result"
    }
   ],
   "source": [
    "df[-mask][['gvkey','splticrm','spsticrm','cik']]"
   ]
  },
  {
   "cell_type": "markdown",
   "metadata": {},
   "source": [
    "# Return"
   ]
  },
  {
   "cell_type": "code",
   "execution_count": null,
   "metadata": {},
   "outputs": [],
   "source": [
    "\n",
    "returns = pd.read_csv('compustat_daily_prices_1997_02_to_latest.csv')"
   ]
  },
  {
   "cell_type": "code",
   "execution_count": null,
   "metadata": {},
   "outputs": [],
   "source": [
    "returns.head()"
   ]
  },
  {
   "cell_type": "code",
   "execution_count": null,
   "metadata": {},
   "outputs": [],
   "source": [
    "returns['datadate']=(pd.to_datetime(returns['datadate'],format='%Y%m%d'))\n"
   ]
  },
  {
   "cell_type": "code",
   "execution_count": null,
   "metadata": {},
   "outputs": [],
   "source": [
    "returns['month']= returns['datadate'].dt.month\n",
    "returns['year']= returns['datadate'].dt.year\n"
   ]
  },
  {
   "cell_type": "code",
   "execution_count": null,
   "metadata": {},
   "outputs": [],
   "source": [
    "returns['mkcap']= returns['cshom']* returns['prccm']"
   ]
  },
  {
   "cell_type": "code",
   "execution_count": null,
   "metadata": {},
   "outputs": [],
   "source": [
    "# Shift the stock by 1 month\n",
    "mask = returns['cik']==returns['cik'].shift(-1)\n",
    "returns['nextmonth_return']= np.where(mask,returns['trt1m'].shift(-1),np.nan)"
   ]
  },
  {
   "cell_type": "code",
   "execution_count": null,
   "metadata": {},
   "outputs": [],
   "source": [
    "# returns"
   ]
  },
  {
   "cell_type": "code",
   "execution_count": null,
   "metadata": {},
   "outputs": [],
   "source": [
    "returns= returns[['cik','prccm','year','month','datadate','trt1m','cshom','mkcap','tic','nextmonth_return']]\n",
    "\n",
    "# CIK unique company identifier\n",
    "# PRCCM close price\n",
    "# CMTH month, CYEAR year\n",
    "# datadate\n",
    "# TRT1M monthly total return: monthly multiplication factor for calculating the total return to shareholders of any time period.\n",
    "# includes Cash Equivalent Distributions (from 01-31-1982 and forward) along with reinvestment of dividends and the compounding effect of dividends paid on reinvested dividends.\n",
    "# 'cshom' s/o monthly, 'chsoq' s/o quarterly"
   ]
  },
  {
   "cell_type": "code",
   "execution_count": null,
   "metadata": {},
   "outputs": [],
   "source": [
    "returns[returns['tic']=='AAPL']"
   ]
  },
  {
   "cell_type": "code",
   "execution_count": null,
   "metadata": {},
   "outputs": [],
   "source": [
    "filtercap= returns['mkcap'].isna()| returns['cik'].isna()"
   ]
  },
  {
   "cell_type": "code",
   "execution_count": null,
   "metadata": {},
   "outputs": [],
   "source": [
    "returns= returns[-filtercap]"
   ]
  },
  {
   "cell_type": "code",
   "execution_count": null,
   "metadata": {},
   "outputs": [],
   "source": [
    "returns"
   ]
  },
  {
   "cell_type": "markdown",
   "metadata": {},
   "source": [
    "# rating preparation"
   ]
  },
  {
   "cell_type": "code",
   "execution_count": null,
   "metadata": {},
   "outputs": [],
   "source": [
    "lista"
   ]
  },
  {
   "cell_type": "code",
   "execution_count": null,
   "metadata": {},
   "outputs": [],
   "source": [
    "rating = df[['cik','splticrm', 'spsdrm', 'spsticrm', 'spcsrc','datadate']]"
   ]
  },
  {
   "cell_type": "code",
   "execution_count": null,
   "metadata": {},
   "outputs": [],
   "source": [
    "rating['datadate']=(pd.to_datetime(rating['datadate'],format='%Y%m%d'))\n",
    "rating['month']= rating['datadate'].dt.month\n",
    "rating['year']= rating['datadate'].dt.year"
   ]
  },
  {
   "cell_type": "markdown",
   "metadata": {},
   "source": [
    "# Merged Dataset "
   ]
  },
  {
   "cell_type": "code",
   "execution_count": null,
   "metadata": {},
   "outputs": [],
   "source": [
    "\n",
    "merge_dataset = pd.merge(returns,rating, left_on=['cik','year','month'], right_on= ['cik','year','month'], how='left')"
   ]
  },
  {
   "cell_type": "code",
   "execution_count": null,
   "metadata": {},
   "outputs": [],
   "source": [
    "merge_dataset"
   ]
  },
  {
   "cell_type": "code",
   "execution_count": null,
   "metadata": {},
   "outputs": [],
   "source": [
    "merge_dataset[-merge_dataset['splticrm'].isna()]['cik'].nunique()"
   ]
  },
  {
   "cell_type": "code",
   "execution_count": null,
   "metadata": {},
   "outputs": [],
   "source": [
    "#impor to csv so no need to rerun everything\n",
    "merge_dataset.to_csv('merge_dataset.csv')"
   ]
  },
  {
   "cell_type": "code",
   "execution_count": null,
   "metadata": {},
   "outputs": [],
   "source": []
  },
  {
   "cell_type": "code",
   "execution_count": null,
   "metadata": {},
   "outputs": [],
   "source": []
  },
  {
   "cell_type": "code",
   "execution_count": null,
   "metadata": {},
   "outputs": [],
   "source": []
  },
  {
   "cell_type": "code",
   "execution_count": null,
   "metadata": {},
   "outputs": [],
   "source": []
  },
  {
   "cell_type": "code",
   "execution_count": null,
   "metadata": {},
   "outputs": [],
   "source": []
  },
  {
   "cell_type": "code",
   "execution_count": null,
   "metadata": {},
   "outputs": [],
   "source": []
  },
  {
   "cell_type": "code",
   "execution_count": null,
   "metadata": {},
   "outputs": [],
   "source": []
  },
  {
   "cell_type": "code",
   "execution_count": null,
   "metadata": {},
   "outputs": [],
   "source": []
  },
  {
   "cell_type": "code",
   "execution_count": null,
   "metadata": {},
   "outputs": [],
   "source": []
  },
  {
   "cell_type": "code",
   "execution_count": null,
   "metadata": {},
   "outputs": [],
   "source": []
  },
  {
   "cell_type": "markdown",
   "metadata": {},
   "source": [
    "## read in merge_dataset from here"
   ]
  },
  {
   "cell_type": "code",
   "execution_count": null,
   "metadata": {},
   "outputs": [],
   "source": [
    "import pandas as pd\n",
    "import numpy as np\n",
    "import matplotlib.pyplot as plt\n",
    "import matplotlib.ticker as mtick\n",
    "merge_dataset = pd.read_csv('merge_dataset.csv')"
   ]
  },
  {
   "cell_type": "code",
   "execution_count": null,
   "metadata": {},
   "outputs": [],
   "source": [
    "# merge_dataset\n",
    "merge_dataset['day'] = 1\n",
    "merge_dataset['date'] = pd.to_datetime(merge_dataset[['year', 'month','day']])"
   ]
  },
  {
   "cell_type": "code",
   "execution_count": null,
   "metadata": {},
   "outputs": [],
   "source": [
    "merge_dataset['splticrm'] = merge_dataset['splticrm'].fillna('NO DATA')"
   ]
  },
  {
   "cell_type": "code",
   "execution_count": null,
   "metadata": {},
   "outputs": [],
   "source": [
    "listrating= (list(merge_dataset['splticrm'].unique()))\n",
    "listrating.sort()\n",
    "superior = listrating[3:7]\n",
    "good = listrating[0:3]\n",
    "adequate = listrating[13:16]\n",
    "speculative = listrating[10:13]\n",
    "highly_speculative = listrating[7:10]\n",
    "highly_speculative.append(listrating[17])\n",
    "highly_speculative.append(listrating[18])\n",
    "default=[ 'CCC-','D','CC']\n",
    "nodata=[ 'NO DATA']\n",
    "\n",
    "#https://www.tdsecurities.com/tds/content/CMkt_RatingsCorrelation?language=en_CA"
   ]
  },
  {
   "cell_type": "code",
   "execution_count": null,
   "metadata": {},
   "outputs": [],
   "source": [
    "twodim=[]\n",
    "twodim.append(superior)\n",
    "twodim.append(good)\n",
    "twodim.append(adequate)\n",
    "twodim.append(speculative)\n",
    "twodim.append(highly_speculative)\n",
    "twodim.append(default)\n",
    "twodim.append(nodata)\n",
    "twodim"
   ]
  },
  {
   "cell_type": "code",
   "execution_count": null,
   "metadata": {},
   "outputs": [],
   "source": [
    "def check_rating(rating):\n",
    "    \n",
    "    if rating in superior:\n",
    "        return 'superior'\n",
    "    elif rating in good:\n",
    "        return 'good'\n",
    "    elif rating in adequate:\n",
    "        return 'adequate'\n",
    "    elif rating in speculative:\n",
    "        return 'speculative'\n",
    "    elif rating in highly_speculative:\n",
    "        return 'highly_speculative'\n",
    "    elif rating in default:\n",
    "        return 'default'\n",
    "    elif rating in nodata:\n",
    "        return 'nodata'\n",
    "    \n",
    "# merge_dataset['re-rating']= np.where((merge_dataset['splticrm'].isin(superior), ma)"
   ]
  },
  {
   "cell_type": "code",
   "execution_count": null,
   "metadata": {},
   "outputs": [],
   "source": [
    "merge_dataset['re_rating'] = merge_dataset['splticrm'].map(check_rating)"
   ]
  },
  {
   "cell_type": "code",
   "execution_count": null,
   "metadata": {},
   "outputs": [],
   "source": [
    "# grouped = "
   ]
  },
  {
   "cell_type": "code",
   "execution_count": null,
   "metadata": {},
   "outputs": [],
   "source": [
    "# #calculate value weight for top\n",
    "# group = top.groupby('date')['tna'].sum().reset_index()\n",
    "# top = pd.merge(top, group, how='left', left_on='date', right_on='date', suffixes=('', '_top'))\n",
    "# top['value_weight'] = top['tna'] / top['tna_top']\n",
    "# top['m1_value'] = (top['m+1_ret'].astype(float))* top['value_weight'].astype(float)\n"
   ]
  },
  {
   "cell_type": "code",
   "execution_count": null,
   "metadata": {},
   "outputs": [],
   "source": [
    "merge_dataset.groupby(['re_rating','date'])[['cik']].agg('count').to_csv('re_rating_count.csv')"
   ]
  },
  {
   "cell_type": "code",
   "execution_count": null,
   "metadata": {},
   "outputs": [],
   "source": [
    "merge_dataset.groupby(['re_rating','date'])['mkcap'].sum().reset_index()"
   ]
  },
  {
   "cell_type": "code",
   "execution_count": null,
   "metadata": {},
   "outputs": [],
   "source": [
    "total = merge_dataset.groupby(['re_rating','date'])['mkcap'].sum().reset_index()\n",
    "merge_dataset = pd.merge(merge_dataset, total, how='left', left_on= ['date','re_rating'], right_on=['date','re_rating'] , suffixes=('', '_total'))"
   ]
  },
  {
   "cell_type": "code",
   "execution_count": null,
   "metadata": {},
   "outputs": [],
   "source": [
    "merge_dataset['weight'] = merge_dataset['mkcap'] / merge_dataset['mkcap_total']\n",
    "merge_dataset['weight_return'] = merge_dataset['nextmonth_return'] * merge_dataset['weight']"
   ]
  },
  {
   "cell_type": "code",
   "execution_count": null,
   "metadata": {},
   "outputs": [],
   "source": [
    "# merge_dataset.groupby('date')['weight_return'].sum().to_csv('test.csv')"
   ]
  },
  {
   "cell_type": "code",
   "execution_count": null,
   "metadata": {},
   "outputs": [],
   "source": [
    "grouped =merge_dataset.groupby(['re_rating','year','month','date'])['weight_return'].agg(['sum','count']).reset_index()\n",
    "# grouped = grouped.rename(columns = {'splticrm': 'rating'})"
   ]
  },
  {
   "cell_type": "code",
   "execution_count": null,
   "metadata": {},
   "outputs": [],
   "source": [
    "# grouped[grouped['rating'] == 'CCC']"
   ]
  },
  {
   "cell_type": "code",
   "execution_count": null,
   "metadata": {},
   "outputs": [],
   "source": [
    "# merge_dataset.groupby(['year','month','splticrm'])[['nextmonth_return']]#.count().to_csv('groupby_count.csv')\n",
    "# merge_dataset.groupby(['year','month','splticrm'])[['nextmonth_return']]#.count().to_csv('groupby_mean.csv')"
   ]
  },
  {
   "cell_type": "code",
   "execution_count": null,
   "metadata": {},
   "outputs": [],
   "source": [
    "rate_list = list(grouped['re_rating'].unique())"
   ]
  },
  {
   "cell_type": "code",
   "execution_count": null,
   "metadata": {},
   "outputs": [],
   "source": [
    "grouped"
   ]
  },
  {
   "cell_type": "code",
   "execution_count": null,
   "metadata": {
    "scrolled": false
   },
   "outputs": [],
   "source": [
    "for i in rate_list:\n",
    "#     plt.figure(figsize=(10,10))\n",
    "    mask = grouped['re_rating'] == i\n",
    "    ax = grouped[mask].plot(x = 'date', y = 'sum', title = i, color = 'teal', figsize = (15,5))\n",
    "    plt.ylabel('average return')\n",
    "    ax.yaxis.set_major_formatter(mtick.PercentFormatter())\n",
    "    plt.show()\n",
    "    \n"
   ]
  },
  {
   "cell_type": "code",
   "execution_count": null,
   "metadata": {},
   "outputs": [],
   "source": [
    "plt.figure(figsize=(10,5))\n",
    "mask = grouped['rating'] == 'A'\n",
    "\n",
    "ax = grouped[mask].plot(x = 'date', y = 'sum')\n",
    "plt.ylabel('average return')\n",
    "ax.yaxis.set_major_formatter(mtick.PercentFormatter())\n",
    "plt.show()\n",
    "\n",
    "# df.plot(x=\"R\", y=[\"F10.7\", \"Dst\"], style='.')"
   ]
  },
  {
   "cell_type": "code",
   "execution_count": null,
   "metadata": {},
   "outputs": [],
   "source": [
    "grouped['re_rating'].value_counts()"
   ]
  },
  {
   "cell_type": "code",
   "execution_count": null,
   "metadata": {},
   "outputs": [],
   "source": []
  },
  {
   "cell_type": "code",
   "execution_count": null,
   "metadata": {},
   "outputs": [],
   "source": [
    "# for i in ['superior','good','adequate']:\n",
    "mask = grouped['re_rating'] == 'superior'\n",
    "df_superior = grouped[mask]\n",
    "ax=df_superior.plot(x = 'date', y = 'sum', title = 'Average Monthly Return by re_rating', color = 'teal', figsize = (15,5), label = 'superior')\n",
    "\n",
    "mask = grouped['re_rating'] == 'good'\n",
    "df_good = grouped[mask]\n",
    "df_good.plot(x = 'date', y = 'sum', title = 'Average Monthly Return by re_rating', color = 'salmon', ax=ax, label = 'good') \n",
    "\n",
    "\n",
    "mask = grouped['re_rating'] == 'adequate'\n",
    "df_good = grouped[mask]\n",
    "df_good.plot(x = 'date', y = 'sum', title = 'Average Monthly Return by re_rating', color = 'grey', ax=ax, label = 'adequate') \n",
    "\n",
    "mask = grouped['re_rating'] == 'speculative'\n",
    "df_good = grouped[mask]\n",
    "df_good.plot(x = 'date', y = 'sum', title = 'Average Monthly Return by re_rating', color = 'pink', ax=ax, label = 'speculative', style = '--')\n",
    "\n",
    "\n",
    "mask = grouped['re_rating'] == 'highly_speculative'\n",
    "df_good = grouped[mask]\n",
    "df_good.plot(x = 'date', y = 'sum', title = 'Average Monthly Return by re_rating', color = 'tomato', ax=ax, label = 'highly_speculative', style = '-') \n",
    "\n",
    "\n",
    "mask = grouped['re_rating'] == 'default'\n",
    "df_good = grouped[mask]\n",
    "df_good.plot(x = 'date', y = 'sum', title = 'Average Monthly Return by re_rating', color = 'darkgrey', ax=ax, label = 'default') \n",
    "\n",
    "\n",
    "# mask = grouped['re_rating'] == 'nodata'\n",
    "# df_good = grouped[mask]\n",
    "# df_good.plot(x = 'date', y = 'sum', title = 'Average Monthly Return by re_rating', color = 'red', ax=ax, label = 'nodata') \n",
    "\n",
    "# ax = grouped[mask].plot(x = 'date', y = 'sum', title = i, color = 'teal', figsize = (15,5))\n",
    "# plt.ylabel('average return')\n",
    "ax.yaxis.set_major_formatter(mtick.PercentFormatter())\n",
    "ax.set_ylabel('average return')\n",
    "# #     plt.show()\n",
    "# ax = df1.plot()\n",
    "# df2.plot(ax=ax)\n",
    "plt.show()\n",
    "    "
   ]
  },
  {
   "cell_type": "code",
   "execution_count": null,
   "metadata": {},
   "outputs": [],
   "source": [
    "year_1998_2017 = grouped.groupby('re_rating')[['sum']].mean()\n",
    "year_1998_2017\n",
    "print('average return difference between AAA and CCC from 1998 to 2017:', float(year_1998_2017.T['superior'] - year_1998_2017.T['default']),'percent')\n",
    "year_1998_2017"
   ]
  },
  {
   "cell_type": "code",
   "execution_count": null,
   "metadata": {},
   "outputs": [],
   "source": [
    "mask = grouped['year'] <= 2008\n",
    "year_1998_2008 = grouped[mask].groupby('re_rating')[['sum']].mean()\n",
    "print('average return difference between superior and default from 1998 to 2008:', float(year_1998_2008.T['superior'] - year_1998_2008.T['default']),'percent')\n"
   ]
  },
  {
   "cell_type": "code",
   "execution_count": null,
   "metadata": {},
   "outputs": [],
   "source": [
    "mask = grouped['year'] > 2008\n",
    "grouped[mask].groupby('re_rating')[['sum']].mean()\n",
    "year_2008_2017 = grouped[mask].groupby('re_rating')[['sum']].mean()\n",
    "print('average return difference between superior and default from 2008 to 2017:', float(year_2008_2017.T['superior'] - year_2008_2017.T['default']),'percent')\n"
   ]
  },
  {
   "cell_type": "code",
   "execution_count": null,
   "metadata": {},
   "outputs": [],
   "source": [
    "grouped"
   ]
  },
  {
   "cell_type": "markdown",
   "metadata": {},
   "source": [
    "# Datareader"
   ]
  },
  {
   "cell_type": "markdown",
   "metadata": {},
   "source": [
    "### run the cell below if you are not able to  use datareader"
   ]
  },
  {
   "cell_type": "code",
   "execution_count": null,
   "metadata": {},
   "outputs": [],
   "source": [
    "#pip install yfinance"
   ]
  },
  {
   "cell_type": "code",
   "execution_count": null,
   "metadata": {},
   "outputs": [],
   "source": [
    "from pandas_datareader import data as pdr\n",
    "import yfinance as yf\n",
    "import datetime\n",
    "\n",
    "start_sp = datetime.datetime(1998, 1 , 1)\n",
    "end_sp = datetime.datetime(2020, 1, 31)\n",
    "\n",
    "\n",
    "yf.pdr_override() # <== that's all it takes :-)\n",
    "sp500 = pdr.get_data_yahoo('^GSPC', \n",
    "                           start_sp,\n",
    "                             end_sp)\n",
    "sp500= sp500.reset_index()\n",
    "\n",
    "sp500['year']=sp500['Date'].dt.year\n",
    "sp500['month']=sp500['Date'].dt.month\n",
    "\n",
    "sp500=sp500.drop_duplicates(subset=['year','month'], keep=\"last\")"
   ]
  },
  {
   "cell_type": "code",
   "execution_count": null,
   "metadata": {},
   "outputs": [],
   "source": [
    "sp500"
   ]
  },
  {
   "cell_type": "code",
   "execution_count": null,
   "metadata": {},
   "outputs": [],
   "source": [
    "sp500['next_month_close']= sp500['Adj Close'].shift(-1)\n",
    "sp500['mkt_return']= (sp500['next_month_close']-sp500['Adj Close'])*100/sp500['Adj Close']"
   ]
  },
  {
   "cell_type": "code",
   "execution_count": null,
   "metadata": {},
   "outputs": [],
   "source": [
    "sp500"
   ]
  },
  {
   "cell_type": "code",
   "execution_count": null,
   "metadata": {},
   "outputs": [],
   "source": [
    "regressiondata= pd.merge(grouped,sp500, left_on=['year','month'], right_on=['year','month'], how='left')"
   ]
  },
  {
   "cell_type": "code",
   "execution_count": null,
   "metadata": {},
   "outputs": [],
   "source": [
    "regressiondata"
   ]
  },
  {
   "cell_type": "markdown",
   "metadata": {},
   "source": [
    "# Regressing the sp500 and return of portfolio"
   ]
  },
  {
   "cell_type": "code",
   "execution_count": null,
   "metadata": {},
   "outputs": [],
   "source": [
    "# These are just code that i used to create series, it is not efficient in anyway \n",
    "masksuperior= regressiondata['re_rating']=='superior'\n",
    "superior= regressiondata[masksuperior]\n",
    "maskhighly_speculative= regressiondata['re_rating']=='highly_speculative'\n",
    "highly_speculative= regressiondata[maskhighly_speculative]\n",
    "\n",
    "#reset index but its annoying\n",
    "highlyseries=highly_speculative['sum'].reset_index()\n",
    "superiorseries=superior['sum'].reset_index()\n",
    "spreturn=superior['mkt_return'].reset_index()"
   ]
  },
  {
   "cell_type": "code",
   "execution_count": null,
   "metadata": {},
   "outputs": [],
   "source": [
    "import statsmodels.api as sm\n",
    "x=spreturn['mkt_return']\n",
    "y=(superiorseries['sum']-highlyseries['sum'])\n",
    "x = sm.add_constant(x)"
   ]
  },
  {
   "cell_type": "code",
   "execution_count": null,
   "metadata": {},
   "outputs": [],
   "source": [
    "model = sm.OLS(y,x)\n",
    "results = model.fit()\n",
    "print(results.summary())"
   ]
  },
  {
   "cell_type": "code",
   "execution_count": null,
   "metadata": {},
   "outputs": [],
   "source": []
  }
 ],
 "metadata": {
  "kernelspec": {
   "display_name": "Python 3",
   "language": "python",
   "name": "python3"
  },
  "language_info": {
   "codemirror_mode": {
    "name": "ipython",
    "version": 3
   },
   "file_extension": ".py",
   "mimetype": "text/x-python",
   "name": "python",
   "nbconvert_exporter": "python",
   "pygments_lexer": "ipython3",
   "version": "3.7.4"
  }
 },
 "nbformat": 4,
 "nbformat_minor": 4
}
